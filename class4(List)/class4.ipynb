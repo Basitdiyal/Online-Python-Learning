{
 "cells": [
  {
   "cell_type": "markdown",
   "metadata": {},
   "source": [
    "# List and Functions\n"
   ]
  },
  {
   "cell_type": "code",
   "execution_count": 1,
   "metadata": {},
   "outputs": [
    {
     "name": "stdout",
     "output_type": "stream",
     "text": [
      "Kashif\n",
      "Kashif\n"
     ]
    }
   ],
   "source": [
    "names = [\"Basit\", \"Kashif\", \"Qamar\", \"Hassan\"]\n",
    "print(names[-3])\n",
    "print(names[1])"
   ]
  },
  {
   "cell_type": "code",
   "execution_count": 3,
   "metadata": {},
   "outputs": [
    {
     "name": "stdout",
     "output_type": "stream",
     "text": [
      "Basit 9 Qamar Hassan\n"
     ]
    }
   ],
   "source": [
    "names : list[any] = [\"Basit\", 9, \"Qamar\", \"Hassan\"]\n",
    "print(*names)\n"
   ]
  },
  {
   "cell_type": "code",
   "execution_count": 9,
   "metadata": {},
   "outputs": [
    {
     "name": "stdout",
     "output_type": "stream",
     "text": [
      "QAMAR\n"
     ]
    },
    {
     "data": {
      "text/plain": [
       "int"
      ]
     },
     "execution_count": 9,
     "metadata": {},
     "output_type": "execute_result"
    }
   ],
   "source": [
    "names : list[any] = [\"Basit\", 9, \"Qamar\", \"Hassan\"]\n",
    "print(f\"{names[2].upper()}\")\n",
    "type(names)\n",
    "type(names[-3])"
   ]
  },
  {
   "cell_type": "code",
   "execution_count": 12,
   "metadata": {},
   "outputs": [
    {
     "name": "stdout",
     "output_type": "stream",
     "text": [
      "['a', 'b', 'c', 'd', 'e', 'f', 'g', 'h', 'i', 'j', 'k', 'l', 'm', 'n', 'o', 'p', 'q', 'r', 's', 't', 'u', 'v']\n"
     ]
    }
   ],
   "source": [
    "characters : list[str] = list(\"abcdefghijklmnopqrstuv\")\n",
    "print(characters)"
   ]
  },
  {
   "cell_type": "code",
   "execution_count": 20,
   "metadata": {},
   "outputs": [
    {
     "name": "stdout",
     "output_type": "stream",
     "text": [
      "a b c d e f g h i j k l m n o p q r s t u v\n"
     ]
    }
   ],
   "source": [
    "\n",
    "characters : list[str] = ['a', 'b', 'c', 'd', 'e', 'f', 'g', 'h', 'i', 'j', 'k', 'l', 'm', 'n', 'o', 'p', 'q', 'r', 's', 't', 'u', 'v']\n",
    "\n",
    "print(*characters)"
   ]
  },
  {
   "cell_type": "markdown",
   "metadata": {},
   "source": [
    "# Slicing Rules"
   ]
  },
  {
   "cell_type": "code",
   "execution_count": 55,
   "metadata": {},
   "outputs": [
    {
     "name": "stdout",
     "output_type": "stream",
     "text": [
      "['a', 'b']\n"
     ]
    }
   ],
   "source": [
    "\n",
    "characters : list[str] = ['a', 'b', 'c', 'd', 'e', 'f', 'g', 'h', 'i', 'j', 'k', 'l', 'm', 'n', 'o', 'p', 'q', 'r', 's', 't', 'u', 'v']\n",
    "\n",
    "print(characters[0:2:])\n"
   ]
  },
  {
   "cell_type": "code",
   "execution_count": 61,
   "metadata": {},
   "outputs": [
    {
     "name": "stdout",
     "output_type": "stream",
     "text": [
      "c\n"
     ]
    }
   ],
   "source": [
    "\n",
    "characters : list[str] = ['a', 'b', 'c', 'd', 'e', 'f', 'g', 'h', 'i', 'j', 'k', 'l', 'm', 'n', 'o', 'p', 'q', 'r', 's', 't', 'u', 'v']\n",
    "\n",
    "print(characters[2].casefold())"
   ]
  },
  {
   "cell_type": "code",
   "execution_count": null,
   "metadata": {},
   "outputs": [
    {
     "name": "stdout",
     "output_type": "stream",
     "text": [
      "['BAsit', 'Ali', 'Hassan', 'Qamar']\n"
     ]
    }
   ],
   "source": [
    "# Insert Method\n",
    "characters : list[str] = ['BAsit','Hassan','Qamar']\n",
    "characters.insert(1,'Ali')\n",
    "print(characters)"
   ]
  },
  {
   "cell_type": "code",
   "execution_count": 68,
   "metadata": {},
   "outputs": [
    {
     "name": "stdout",
     "output_type": "stream",
     "text": [
      "['Hassan', 'Qamar']\n"
     ]
    }
   ],
   "source": [
    "# Remove Method\n",
    "characters : list[str] = ['BAsit','Hassan','Qamar']\n",
    "characters.remove('BAsit')\n",
    "print(characters)"
   ]
  },
  {
   "cell_type": "code",
   "execution_count": 82,
   "metadata": {},
   "outputs": [
    {
     "name": "stdout",
     "output_type": "stream",
     "text": [
      "Basit\n",
      "Hassan\n",
      "Qamar\n"
     ]
    }
   ],
   "source": [
    "# characters : list[str] = ['Basit','Hassan','Qamar']\n",
    "# print(characters[0])\n",
    "# print(characters[1])\n",
    "# print(characters[2])\n",
    "\n",
    "characters : list[str] = ['Basit','Hassan','Qamar']\n",
    "for char in characters:\n",
    "    print(char)\n",
    "\n",
    "\n"
   ]
  },
  {
   "cell_type": "code",
   "execution_count": null,
   "metadata": {},
   "outputs": [],
   "source": []
  }
 ],
 "metadata": {
  "kernelspec": {
   "display_name": "python12",
   "language": "python",
   "name": "python3"
  },
  "language_info": {
   "codemirror_mode": {
    "name": "ipython",
    "version": 3
   },
   "file_extension": ".py",
   "mimetype": "text/x-python",
   "name": "python",
   "nbconvert_exporter": "python",
   "pygments_lexer": "ipython3",
   "version": "3.12.7"
  }
 },
 "nbformat": 4,
 "nbformat_minor": 2
}
