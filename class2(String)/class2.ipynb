{
 "cells": [
  {
   "cell_type": "code",
   "execution_count": 2,
   "metadata": {},
   "outputs": [
    {
     "name": "stdout",
     "output_type": "stream",
     "text": [
      "Student Name: Basit Ali\n",
      "Father Name: Muhammad Akram\n",
      "Student Age: 25\n"
     ]
    }
   ],
   "source": [
    "name :str = \"Basit Ali\"\n",
    "fname : str = \"Muhammad Akram\"\n",
    "Education : str = \"BSCS\"\n",
    "age :int = 25\n",
    "city : str = \"Layyah\"\n",
    "\n",
    "card :str = \"Student Name: \" + name + \"\\nFather Name: \" + fname  + \"\\nStudent Age: \" + str(age)  \n",
    "\n",
    "print(card)"
   ]
  },
  {
   "cell_type": "code",
   "execution_count": 3,
   "metadata": {},
   "outputs": [
    {
     "name": "stdout",
     "output_type": "stream",
     "text": [
      "Student Name: Basit Ali\n",
      "Father Name: Muhammad Akram\n",
      "Student Age: 25\n"
     ]
    }
   ],
   "source": [
    "name :str = \"Basit Ali\"\n",
    "fname : str = \"Muhammad Akram\"\n",
    "Education : str = \"BSCS\"\n",
    "age :int = 25\n",
    "city : str = \"Layyah\"\n",
    "\n",
    "card :str = \"Student Name: \" + name + \\\n",
    "      \"\\nFather Name: \" + fname  + \\\n",
    "        \"\\nStudent Age: \" + str(age)  \n",
    "\n",
    "print(card)"
   ]
  },
  {
   "cell_type": "code",
   "execution_count": 4,
   "metadata": {},
   "outputs": [
    {
     "name": "stdout",
     "output_type": "stream",
     "text": [
      "\n",
      "Student Name: \n",
      "Father Name:  \n",
      "Student Age:    \n"
     ]
    }
   ],
   "source": [
    "name :str = \"Basit Ali\"\n",
    "fname : str = \"Muhammad Akram\"\n",
    "Education : str = \"BSCS\"\n",
    "age :int = 25\n",
    "city : str = \"Layyah\"\n",
    "\n",
    "print(f\"\"\"\n",
    "Student Name: {input()}\n",
    "Father Name:  {input()}\n",
    "Student Age:   {input()} \"\"\" )"
   ]
  },
  {
   "cell_type": "code",
   "execution_count": 5,
   "metadata": {},
   "outputs": [
    {
     "name": "stdout",
     "output_type": "stream",
     "text": [
      "\n",
      "Student Name: Basit Ali \n",
      "Father Name:  Muhammad Akram \n",
      "Student Age:  25\n"
     ]
    }
   ],
   "source": [
    "name :str = \"Basit Ali\"\n",
    "fname : str = \"Muhammad Akram\"\n",
    "Education : str = \"BSCS\"\n",
    "age :int = 25\n",
    "city : str = \"Layyah\"\n",
    "\n",
    "print(f\"\"\"\n",
    "Student Name: {name} \n",
    "Father Name:  {fname} \n",
    "Student Age:  {age}\"\"\")"
   ]
  },
  {
   "cell_type": "code",
   "execution_count": 6,
   "metadata": {},
   "outputs": [
    {
     "name": "stdout",
     "output_type": "stream",
     "text": [
      "\n",
      "Student Name: Basit Ali \n",
      "Father Name:  Muhammad Akram \n",
      "Student Age:  25\n"
     ]
    }
   ],
   "source": [
    "name :str = \"Basit Ali\"\n",
    "fname : str = \"Muhammad Akram\"\n",
    "Education : str = \"BSCS\"\n",
    "age :int = 25\n",
    "city : str = \"Layyah\"\n",
    "\n",
    "card : str = f\"\"\"\n",
    "Student Name: {name} \n",
    "Father Name:  {fname} \n",
    "Student Age:  {age}\"\"\"\n",
    "\n",
    "print(card)"
   ]
  },
  {
   "cell_type": "code",
   "execution_count": 7,
   "metadata": {},
   "outputs": [
    {
     "name": "stdout",
     "output_type": "stream",
     "text": [
      "\n",
      "\n",
      "\n"
     ]
    }
   ],
   "source": [
    "name :str = \"Basit Ali\"\n",
    "fname : str = \"Muhammad Akram\"\n",
    "Education : str = \"BSCS\"\n",
    "age :int = 25\n",
    "city : str = \"Layyah\"\n",
    "\n",
    "print(\n",
    "input(\"Student Name: \") + \"\\n\" + input(\"Father Name : \") +\"\\n\" + input(\"Student Age: \")\n",
    ")"
   ]
  },
  {
   "cell_type": "markdown",
   "metadata": {},
   "source": [
    "## F-String and Jinja Style\n"
   ]
  },
  {
   "cell_type": "code",
   "execution_count": null,
   "metadata": {},
   "outputs": [
    {
     "data": {
      "text/plain": [
       "'Student Name: BAsit ALi'"
      ]
     },
     "execution_count": 9,
     "metadata": {},
     "output_type": "execute_result"
    }
   ],
   "source": [
    "'''Student Name: BAsit ALi'''"
   ]
  }
 ],
 "metadata": {
  "kernelspec": {
   "display_name": "python12",
   "language": "python",
   "name": "python3"
  },
  "language_info": {
   "codemirror_mode": {
    "name": "ipython",
    "version": 3
   },
   "file_extension": ".py",
   "mimetype": "text/x-python",
   "name": "python",
   "nbconvert_exporter": "python",
   "pygments_lexer": "ipython3",
   "version": "3.12.7"
  }
 },
 "nbformat": 4,
 "nbformat_minor": 2
}
