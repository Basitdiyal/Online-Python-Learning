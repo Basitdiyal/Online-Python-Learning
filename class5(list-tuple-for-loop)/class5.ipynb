{
 "cells": [
  {
   "cell_type": "markdown",
   "metadata": {},
   "source": [
    "# List & For loop"
   ]
  },
  {
   "cell_type": "code",
   "execution_count": 1,
   "metadata": {},
   "outputs": [
    {
     "name": "stdout",
     "output_type": "stream",
     "text": [
      "basit ali\n"
     ]
    }
   ],
   "source": [
    "names : list[str] = [\"basit ali\", \"Qamar shahzad\", \"Rana Haris\",\"Hammad Afzal\"]\n",
    "\n",
    "print( names[0]) # Printing String by giving index"
   ]
  },
  {
   "cell_type": "code",
   "execution_count": 14,
   "metadata": {},
   "outputs": [
    {
     "name": "stdout",
     "output_type": "stream",
     "text": [
      "This is :Basit Ali\n",
      "This is :Qamar Shahzad\n",
      "This is :Rana Haris\n",
      "This is :Hammad Afzal\n"
     ]
    }
   ],
   "source": [
    "names : list[str] = [\"basit ali\", \"Qamar shahzad\", \"Rana Haris\",\"Hammad Afzal\"]\n",
    "for name in names:\n",
    "    print(\"This is :\" + name.title()) #Printing List With For Loop\n",
    "  "
   ]
  },
  {
   "cell_type": "code",
   "execution_count": 16,
   "metadata": {},
   "outputs": [
    {
     "name": "stdout",
     "output_type": "stream",
     "text": [
      "This is :Basit Ali\n"
     ]
    }
   ],
   "source": [
    "names : list[str] = [\"basit ali\", \"Qamar shahzad\", \"Rana Haris\",\"Hammad Afzal\"]\n",
    "for name in names:\n",
    "    print(\"This is :\" + name.title()) #Printing List With For Loop \n",
    "    break  # Terminating Loop with break \n",
    "else: \n",
    "    print(\"I am using For Loop to print List of Strings\")"
   ]
  },
  {
   "cell_type": "markdown",
   "metadata": {},
   "source": [
    "# List Type Tuple "
   ]
  },
  {
   "cell_type": "code",
   "execution_count": 40,
   "metadata": {},
   "outputs": [
    {
     "name": "stdout",
     "output_type": "stream",
     "text": [
      "User Name and Age are Correct: Usman 29\n"
     ]
    }
   ],
   "source": [
    "data_base: list[tuple] = [(\"Basit\", '31'),\n",
    "                          (\"Hammad\",'25'),\n",
    "                          (\"Usman\",'29')]\n",
    "#'Basit', 31  -> 1st Row\n",
    "#'Hammad', 25 -> 2nd Row\n",
    "#'Usman', 29  -> 3rd Row\n",
    "\n",
    "input_name : str = input(\"Enter User Name: \")\n",
    "input_age : str = input(\"Enter User age: \")\n",
    "\n",
    "for data in data_base:         \n",
    "    name, age = data\n",
    "    if input_name==name  and  input_age==age :\n",
    "        print(\"User Name and Age are Correct: \"+ name, age)\n",
    "        break \n",
    "else:\n",
    "    print(\"You have Entered invalid Data\")            \n",
    "                               \n",
    "   "
   ]
  },
  {
   "cell_type": "markdown",
   "metadata": {},
   "source": [
    "# Numbers With Loop\n"
   ]
  },
  {
   "cell_type": "code",
   "execution_count": null,
   "metadata": {},
   "outputs": [
    {
     "data": {
      "text/plain": [
       "[2, 4, 6, 8, 10, 12, 14, 16, 18]"
      ]
     },
     "execution_count": 11,
     "metadata": {},
     "output_type": "execute_result"
    }
   ],
   "source": [
    "list(range(2,20,2))"
   ]
  },
  {
   "cell_type": "markdown",
   "metadata": {},
   "source": [
    "# Writing Table"
   ]
  },
  {
   "cell_type": "code",
   "execution_count": 32,
   "metadata": {},
   "outputs": [
    {
     "name": "stdout",
     "output_type": "stream",
     "text": [
      "2 * 1  = 2\n",
      "2 * 2  = 4\n",
      "2 * 3  = 6\n",
      "2 * 4  = 8\n",
      "2 * 5  = 10\n",
      "2 * 6  = 12\n",
      "2 * 7  = 14\n",
      "2 * 8  = 16\n",
      "2 * 9  = 18\n",
      "2 * 10  = 20\n"
     ]
    }
   ],
   "source": [
    "for number in range(1,11):\n",
    "    print( f\"2 * {number}  = {number * 2}\" )"
   ]
  },
  {
   "cell_type": "markdown",
   "metadata": {},
   "source": [
    "# Dynamic Table"
   ]
  },
  {
   "cell_type": "code",
   "execution_count": 35,
   "metadata": {},
   "outputs": [
    {
     "name": "stdout",
     "output_type": "stream",
     "text": [
      "10 * 1  = 10\n",
      "10 * 2  = 20\n",
      "10 * 3  = 30\n",
      "10 * 4  = 40\n",
      "10 * 5  = 50\n",
      "10 * 6  = 60\n",
      "10 * 7  = 70\n",
      "10 * 8  = 80\n",
      "10 * 9  = 90\n",
      "10 * 10  = 100\n"
     ]
    }
   ],
   "source": [
    "x :int = int(input(\"Enter Any NUmber: \"))\n",
    "for number in range(1,11):\n",
    "    print( f\"{x} * {number}  = {number * x }\" )"
   ]
  },
  {
   "cell_type": "markdown",
   "metadata": {},
   "source": [
    "# Tuple"
   ]
  },
  {
   "cell_type": "code",
   "execution_count": 40,
   "metadata": {},
   "outputs": [
    {
     "name": "stdout",
     "output_type": "stream",
     "text": [
      "Basit\n",
      "Ali\n",
      "Amanat\n"
     ]
    }
   ],
   "source": [
    "data : tuple[str] = (\"Basit\",\"Ali\",\"Amanat\")\n",
    "print(data[0]) \n",
    "print(data[1]) \n",
    "print(data[2]) "
   ]
  },
  {
   "cell_type": "code",
   "execution_count": 60,
   "metadata": {},
   "outputs": [
    {
     "name": "stdout",
     "output_type": "stream",
     "text": [
      "('Basit', 'Ali', 'Amanat', [0, 1, 2, 3])\n"
     ]
    }
   ],
   "source": [
    "data : tuple[str] = (\"Basit\",\"Ali\",\"Amanat\",[0,1,2])\n",
    "data[3].append(3)\n",
    "print(data)\n",
    "\n",
    "# data : tuple[str] = (\"Basit\",\"Ali\",\"Amanat\",[0,1,2])\n",
    "# data[2] =\"Paki\"\n",
    "# print(data)\n"
   ]
  }
 ],
 "metadata": {
  "kernelspec": {
   "display_name": "python12",
   "language": "python",
   "name": "python3"
  },
  "language_info": {
   "codemirror_mode": {
    "name": "ipython",
    "version": 3
   },
   "file_extension": ".py",
   "mimetype": "text/x-python",
   "name": "python",
   "nbconvert_exporter": "python",
   "pygments_lexer": "ipython3",
   "version": "3.12.7"
  }
 },
 "nbformat": 4,
 "nbformat_minor": 2
}
